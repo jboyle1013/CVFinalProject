{
 "metadata": {
  "kernelspec": {
   "language": "python",
   "display_name": "Python 3",
   "name": "python3"
  },
  "language_info": {
   "name": "python",
   "version": "3.10.12",
   "mimetype": "text/x-python",
   "codemirror_mode": {
    "name": "ipython",
    "version": 3
   },
   "pygments_lexer": "ipython3",
   "nbconvert_exporter": "python",
   "file_extension": ".py"
  }
 },
 "nbformat_minor": 4,
 "nbformat": 4,
 "cells": [
  {
   "cell_type": "code",
   "source": [
    "import numpy as np\n",
    "import cv2\n",
    "import pandas as pd\n",
    "import string\n",
    "import matplotlib.pyplot as plt\n",
    "import os\n",
    "from keras.preprocessing.sequence import pad_sequences\n",
    "from keras.layers import Dense, LSTM, Reshape, BatchNormalization, Input, Conv2D, MaxPool2D, Lambda, Bidirectional, MaxPooling2D, Concatenate, UpSampling2D, LeakyReLU, Dropout\n",
    "from keras.models import Model\n",
    "from keras.activations import relu, sigmoid, softmax\n",
    "import keras.backend as K\n",
    "from keras.src.layers import UpSampling2D\n",
    "from keras.utils import to_categorical\n",
    "from keras.callbacks import ModelCheckpoint\n",
    "import tensorflow as tf\n",
    "\n",
    "from sklearn.model_selection import train_test_split\n",
    "from sklearn.preprocessing import MinMaxScaler"
   ],
   "metadata": {
    "_uuid": "8f2839f25d086af736a60e9eeb907d3b93b6e0e5",
    "_cell_guid": "b1076dfc-b9ad-4769-8c92-a6c4dae69d19",
    "execution": {
     "iopub.status.busy": "2023-09-30T07:29:27.016338Z",
     "iopub.execute_input": "2023-09-30T07:29:27.016627Z",
     "iopub.status.idle": "2023-09-30T07:29:36.533479Z",
     "shell.execute_reply.started": "2023-09-30T07:29:27.016604Z",
     "shell.execute_reply": "2023-09-30T07:29:36.532351Z"
    },
    "trusted": true,
    "ExecuteTime": {
     "end_time": "2023-11-23T01:26:05.010631Z",
     "start_time": "2023-11-23T01:26:04.973631500Z"
    }
   },
   "execution_count": 62,
   "outputs": []
  },
  {
   "cell_type": "code",
   "source": [
    "with open('archive/iam_words/words.txt') as f:\n",
    "    contents = f.readlines()\n",
    "\n",
    "lines = [line.strip() for line in contents][18:]\n",
    "lines[0]"
   ],
   "metadata": {
    "execution": {
     "iopub.status.busy": "2023-09-30T07:29:36.536205Z",
     "iopub.execute_input": "2023-09-30T07:29:36.537313Z",
     "iopub.status.idle": "2023-09-30T07:29:36.613878Z",
     "shell.execute_reply.started": "2023-09-30T07:29:36.537275Z",
     "shell.execute_reply": "2023-09-30T07:29:36.612936Z"
    },
    "trusted": true,
    "ExecuteTime": {
     "end_time": "2023-11-23T01:26:05.086630900Z",
     "start_time": "2023-11-23T01:26:05.027630500Z"
    }
   },
   "execution_count": 63,
   "outputs": [
    {
     "data": {
      "text/plain": "'a01-000u-00-00 ok 154 408 768 27 51 AT A'"
     },
     "execution_count": 63,
     "metadata": {},
     "output_type": "execute_result"
    }
   ]
  },
  {
   "cell_type": "code",
   "source": [
    "max_label_len = 0\n",
    "\n",
    "char_list = \"!\\\"#&'()*+,-./0123456789:;?ABCDEFGHIJKLMNOPQRSTUVWXYZabcdefghijklmnopqrstuvwxyz\" \n",
    "\n",
    "# string.ascii_letters + string.digits (Chars & Digits)\n",
    "# or \n",
    "# \"!\\\"#&'()*+,-./0123456789:;?ABCDEFGHIJKLMNOPQRSTUVWXYZabcdefghijklmnopqrstuvwxyz\"\n",
    "\n",
    "print(char_list, len(char_list))\n",
    "\n",
    "def encode_to_labels(txt):\n",
    "    # encoding each output word into digits\n",
    "    dig_lst = []\n",
    "    for index, chara in enumerate(txt):\n",
    "        dig_lst.append(char_list.index(chara))\n",
    "        \n",
    "    return dig_lst"
   ],
   "metadata": {
    "execution": {
     "iopub.status.busy": "2023-09-30T07:29:36.615224Z",
     "iopub.execute_input": "2023-09-30T07:29:36.615531Z",
     "iopub.status.idle": "2023-09-30T07:29:36.622590Z",
     "shell.execute_reply.started": "2023-09-30T07:29:36.615501Z",
     "shell.execute_reply": "2023-09-30T07:29:36.621709Z"
    },
    "trusted": true,
    "ExecuteTime": {
     "end_time": "2023-11-23T01:26:05.093630Z",
     "start_time": "2023-11-23T01:26:05.061630900Z"
    }
   },
   "execution_count": 64,
   "outputs": [
    {
     "name": "stdout",
     "output_type": "stream",
     "text": [
      "!\"#&'()*+,-./0123456789:;?ABCDEFGHIJKLMNOPQRSTUVWXYZabcdefghijklmnopqrstuvwxyz 78\n"
     ]
    }
   ]
  },
  {
   "cell_type": "code",
   "source": [
    "images = []\n",
    "labels = []\n",
    "\n",
    "RECORDS_COUNT = 10000"
   ],
   "metadata": {
    "execution": {
     "iopub.status.busy": "2023-09-30T07:29:36.625015Z",
     "iopub.execute_input": "2023-09-30T07:29:36.625541Z",
     "iopub.status.idle": "2023-09-30T07:29:36.634955Z",
     "shell.execute_reply.started": "2023-09-30T07:29:36.625513Z",
     "shell.execute_reply": "2023-09-30T07:29:36.634044Z"
    },
    "trusted": true,
    "ExecuteTime": {
     "end_time": "2023-11-23T01:26:05.094630200Z",
     "start_time": "2023-11-23T01:26:05.075631200Z"
    }
   },
   "execution_count": 65,
   "outputs": []
  },
  {
   "cell_type": "code",
   "source": [
    "train_images = []\n",
    "train_labels = []\n",
    "train_input_length = []\n",
    "train_label_length = []\n",
    "train_original_text = []\n",
    "\n",
    "valid_images = []\n",
    "valid_labels = []\n",
    "valid_input_length = []\n",
    "valid_label_length = []\n",
    "valid_original_text = []\n",
    "\n",
    "inputs_length = []\n",
    "labels_length = []"
   ],
   "metadata": {
    "execution": {
     "iopub.status.busy": "2023-09-30T07:29:36.636222Z",
     "iopub.execute_input": "2023-09-30T07:29:36.637090Z",
     "iopub.status.idle": "2023-09-30T07:29:36.646913Z",
     "shell.execute_reply.started": "2023-09-30T07:29:36.637049Z",
     "shell.execute_reply": "2023-09-30T07:29:36.645909Z"
    },
    "trusted": true,
    "ExecuteTime": {
     "end_time": "2023-11-23T01:26:05.148630700Z",
     "start_time": "2023-11-23T01:26:05.096632100Z"
    }
   },
   "execution_count": 66,
   "outputs": []
  },
  {
   "cell_type": "code",
   "source": [
    "def process_image(img):\n",
    "    \"\"\"\n",
    "    Converts image to shape (32, 128, 1) & normalize\n",
    "    \"\"\"\n",
    "    w, h = img.shape\n",
    "    \n",
    "#     _, img = cv2.threshold(img, \n",
    "#                            128, \n",
    "#                            255, \n",
    "#                            cv2.THRESH_BINARY | cv2.THRESH_OTSU)\n",
    "    \n",
    "    # Aspect Ratio Calculation\n",
    "    new_w = 32\n",
    "    new_h = int(h * (new_w / w))\n",
    "    img = cv2.resize(img, (new_h, new_w))\n",
    "    w, h = img.shape\n",
    "    \n",
    "    img = img.astype('float32')\n",
    "    \n",
    "    # Converts each to (32, 128, 1)\n",
    "    if w < 32:\n",
    "        add_zeros = np.full((32-w, h), 255)\n",
    "        img = np.concatenate((img, add_zeros))\n",
    "        w, h = img.shape\n",
    "    \n",
    "    if h < 128:\n",
    "        add_zeros = np.full((w, 128-h), 255)\n",
    "        img = np.concatenate((img, add_zeros), axis=1)\n",
    "        w, h = img.shape\n",
    "        \n",
    "    if h > 128 or w > 32:\n",
    "        dim = (128,32)\n",
    "        img = cv2.resize(img, dim)\n",
    "    \n",
    "    img = cv2.subtract(255, img)\n",
    "    \n",
    "    img = np.expand_dims(img, axis=2)\n",
    "    \n",
    "    # Normalize \n",
    "    img = img / 255\n",
    "    \n",
    "    return img"
   ],
   "metadata": {
    "execution": {
     "iopub.status.busy": "2023-09-30T07:29:36.648398Z",
     "iopub.execute_input": "2023-09-30T07:29:36.649021Z",
     "iopub.status.idle": "2023-09-30T07:29:36.659339Z",
     "shell.execute_reply.started": "2023-09-30T07:29:36.648990Z",
     "shell.execute_reply": "2023-09-30T07:29:36.658377Z"
    },
    "trusted": true,
    "ExecuteTime": {
     "end_time": "2023-11-23T01:26:05.153631600Z",
     "start_time": "2023-11-23T01:26:05.126631500Z"
    }
   },
   "execution_count": 67,
   "outputs": []
  },
  {
   "cell_type": "code",
   "source": [
    "for index, line in enumerate(lines):\n",
    "    splits = line.split(' ')\n",
    "    status = splits[1]\n",
    "    \n",
    "    if status == 'ok':\n",
    "        word_id = splits[0]\n",
    "        word = \"\".join(splits[8:])\n",
    "        \n",
    "        splits_id = word_id.split('-')\n",
    "        filepath = 'archive/iam_words/words/{}/{}-{}/{}.png'.format(splits_id[0], \n",
    "                                                  splits_id[0], \n",
    "                                                  splits_id[1], \n",
    "                                                  word_id)\n",
    "        \n",
    "        # processing on image\n",
    "        img = cv2.imread(filepath, cv2.IMREAD_GRAYSCALE)\n",
    "        try:\n",
    "            img = process_image(img)\n",
    "        except:\n",
    "            continue\n",
    "            \n",
    "        # processing on label\n",
    "        try:\n",
    "            label = encode_to_labels(word)\n",
    "        except:\n",
    "            continue\n",
    "        \n",
    "        if index % 10 == 0:\n",
    "            valid_images.append(img)\n",
    "            valid_labels.append(label)\n",
    "            valid_input_length.append(31)\n",
    "            valid_label_length.append(len(word))\n",
    "            valid_original_text.append(word)\n",
    "        else:\n",
    "            train_images.append(img)\n",
    "            train_labels.append(label)\n",
    "            train_input_length.append(31)\n",
    "            train_label_length.append(len(word))\n",
    "            train_original_text.append(word)\n",
    "        \n",
    "        if len(word) > max_label_len:\n",
    "            max_label_len = len(word)\n",
    "    \n",
    "    if index >= RECORDS_COUNT:\n",
    "        break"
   ],
   "metadata": {
    "execution": {
     "iopub.status.busy": "2023-09-30T07:29:36.661041Z",
     "iopub.execute_input": "2023-09-30T07:29:36.661662Z",
     "iopub.status.idle": "2023-09-30T07:31:01.745323Z",
     "shell.execute_reply.started": "2023-09-30T07:29:36.661630Z",
     "shell.execute_reply": "2023-09-30T07:31:01.744411Z"
    },
    "trusted": true,
    "ExecuteTime": {
     "end_time": "2023-11-23T01:26:13.872626300Z",
     "start_time": "2023-11-23T01:26:05.140632900Z"
    }
   },
   "execution_count": 68,
   "outputs": []
  },
  {
   "cell_type": "code",
   "source": [
    "train_padded_label = pad_sequences(train_labels, \n",
    "                             maxlen=max_label_len, \n",
    "                             padding='post',\n",
    "                             value=len(char_list))\n",
    "\n",
    "valid_padded_label = pad_sequences(valid_labels, \n",
    "                             maxlen=max_label_len, \n",
    "                             padding='post',\n",
    "                             value=len(char_list))"
   ],
   "metadata": {
    "execution": {
     "iopub.status.busy": "2023-09-30T07:31:01.746670Z",
     "iopub.execute_input": "2023-09-30T07:31:01.747205Z",
     "iopub.status.idle": "2023-09-30T07:31:01.772140Z",
     "shell.execute_reply.started": "2023-09-30T07:31:01.747156Z",
     "shell.execute_reply": "2023-09-30T07:31:01.771281Z"
    },
    "trusted": true,
    "ExecuteTime": {
     "end_time": "2023-11-23T01:26:13.908625700Z",
     "start_time": "2023-11-23T01:26:13.875627800Z"
    }
   },
   "execution_count": 69,
   "outputs": []
  },
  {
   "cell_type": "code",
   "source": [
    "train_padded_label.shape, valid_padded_label.shape"
   ],
   "metadata": {
    "execution": {
     "iopub.status.busy": "2023-09-30T07:31:01.773549Z",
     "iopub.execute_input": "2023-09-30T07:31:01.773878Z",
     "iopub.status.idle": "2023-09-30T07:31:01.779686Z",
     "shell.execute_reply.started": "2023-09-30T07:31:01.773851Z",
     "shell.execute_reply": "2023-09-30T07:31:01.778806Z"
    },
    "trusted": true,
    "ExecuteTime": {
     "end_time": "2023-11-23T01:26:13.921618900Z",
     "start_time": "2023-11-23T01:26:13.910625400Z"
    }
   },
   "execution_count": 70,
   "outputs": [
    {
     "data": {
      "text/plain": "((7850, 16), (876, 16))"
     },
     "execution_count": 70,
     "metadata": {},
     "output_type": "execute_result"
    }
   ]
  },
  {
   "cell_type": "code",
   "source": [
    "\n",
    "train_images = np.asarray(train_images)\n",
    "train_input_length = np.asarray(train_input_length)\n",
    "train_label_length = np.asarray(train_label_length)\n",
    "\n",
    "valid_images = np.asarray(valid_images)\n",
    "valid_input_length = np.asarray(valid_input_length)\n",
    "valid_label_length = np.asarray(valid_label_length)"
   ],
   "metadata": {
    "execution": {
     "iopub.status.busy": "2023-09-30T07:31:01.783982Z",
     "iopub.execute_input": "2023-09-30T07:31:01.784625Z",
     "iopub.status.idle": "2023-09-30T07:31:01.889700Z",
     "shell.execute_reply.started": "2023-09-30T07:31:01.784596Z",
     "shell.execute_reply": "2023-09-30T07:31:01.888794Z"
    },
    "trusted": true,
    "ExecuteTime": {
     "end_time": "2023-11-23T01:26:14.032617800Z",
     "start_time": "2023-11-23T01:26:13.923624500Z"
    }
   },
   "execution_count": 71,
   "outputs": []
  },
  {
   "cell_type": "code",
   "source": [
    "train_images.shape"
   ],
   "metadata": {
    "execution": {
     "iopub.status.busy": "2023-09-30T07:31:01.890947Z",
     "iopub.execute_input": "2023-09-30T07:31:01.891273Z",
     "iopub.status.idle": "2023-09-30T07:31:01.897913Z",
     "shell.execute_reply.started": "2023-09-30T07:31:01.891245Z",
     "shell.execute_reply": "2023-09-30T07:31:01.897026Z"
    },
    "trusted": true,
    "ExecuteTime": {
     "end_time": "2023-11-23T01:26:14.048620800Z",
     "start_time": "2023-11-23T01:26:14.035620600Z"
    }
   },
   "execution_count": 72,
   "outputs": [
    {
     "data": {
      "text/plain": "(7850, 32, 128, 1)"
     },
     "execution_count": 72,
     "metadata": {},
     "output_type": "execute_result"
    }
   ]
  },
  {
   "cell_type": "code",
   "source": [
    "dropout_rate = 0.25\n",
    "lstm_units = 256\n",
    "\n",
    "# Improved model structure\n",
    "inputs = Input(shape=(32, 128, 1))\n",
    "\n",
    "n\n",
    "conv_1 = Conv2D(64, (3,3), padding='same')(inputs)\n",
    "conv_1 = BatchNormalization()(conv_1)\n",
    "conv_1 = LeakyReLU()(conv_1)\n",
    "pool_1 = MaxPooling2D(pool_size=(2, 2), strides=2)(conv_1)\n",
    "\n",
    "conv_2 = Conv2D(128, (3,3), padding='same')(pool_1)\n",
    "conv_2 = BatchNormalization()(conv_2)\n",
    "conv_2 = LeakyReLU()(conv_2)\n",
    "pool_2 = MaxPooling2D(pool_size=(2, 2), strides=2)(conv_2)\n",
    "\n",
    "conv_3 = Conv2D(256, (3,3), padding='same')(pool_2)\n",
    "conv_3 = BatchNormalization()(conv_3)\n",
    "conv_3 = LeakyReLU()(conv_3)\n",
    "\n",
    "conv_4 = Conv2D(256, (3,3), padding='same')(conv_3)\n",
    "conv_4 = BatchNormalization()(conv_4)\n",
    "conv_4 = LeakyReLU()(conv_4)\n",
    "pool_4 = MaxPooling2D(pool_size=(2, 1))(conv_4)\n",
    "\n",
    "conv_5 = Conv2D(512, (3,3), padding='same')(pool_4)\n",
    "conv_5 = BatchNormalization()(conv_5)\n",
    "conv_5 = LeakyReLU()(conv_5)\n",
    "\n",
    "conv_6 = Conv2D(512, (3,3), padding='same')(conv_5)\n",
    "conv_6 = BatchNormalization()(conv_6)\n",
    "conv_6 = LeakyReLU()(conv_6)\n",
    "pool_6 = MaxPooling2D(pool_size=(2, 1))(conv_6)\n",
    "\n",
    "conv_7 = Conv2D(512, (2,2), activation='relu')(pool_6)\n",
    "squeezed = Lambda(lambda x: K.squeeze(x, 1))(conv_7)\n",
    "\n",
    "# Improved bidirectional LSTM layers with adjustable units and dropout\n",
    "blstm_1 = Bidirectional(LSTM(lstm_units, return_sequences=True, dropout=dropout_rate))(squeezed)\n",
    "blstm_2 = Bidirectional(LSTM(lstm_units, return_sequences=True, dropout=dropout_rate))(blstm_1)\n",
    "\n",
    "outputs = Dense(len(char_list) + 1, activation='softmax')(blstm_2)\n",
    "\n",
    "# Final model\n",
    "act_model = Model(inputs, outputs)\n",
    "act_model.summary()"
   ],
   "metadata": {
    "execution": {
     "iopub.status.busy": "2023-09-30T07:31:01.899262Z",
     "iopub.execute_input": "2023-09-30T07:31:01.899989Z",
     "iopub.status.idle": "2023-09-30T07:31:06.605627Z",
     "shell.execute_reply.started": "2023-09-30T07:31:01.899958Z",
     "shell.execute_reply": "2023-09-30T07:31:06.604895Z"
    },
    "trusted": true,
    "ExecuteTime": {
     "end_time": "2023-11-23T01:26:15.104658600Z",
     "start_time": "2023-11-23T01:26:14.063617700Z"
    }
   },
   "execution_count": 73,
   "outputs": [
    {
     "name": "stdout",
     "output_type": "stream",
     "text": [
      "Model: \"model_8\"\n",
      "_________________________________________________________________\n",
      " Layer (type)                Output Shape              Param #   \n",
      "=================================================================\n",
      " input_9 (InputLayer)        [(None, 32, 128, 1)]      0         \n",
      "                                                                 \n",
      " conv2d_83 (Conv2D)          (None, 32, 128, 64)       640       \n",
      "                                                                 \n",
      " batch_normalization_33 (Ba  (None, 32, 128, 64)       256       \n",
      " tchNormalization)                                               \n",
      "                                                                 \n",
      " leaky_re_lu (LeakyReLU)     (None, 32, 128, 64)       0         \n",
      "                                                                 \n",
      " max_pooling2d_27 (MaxPooli  (None, 16, 64, 64)        0         \n",
      " ng2D)                                                           \n",
      "                                                                 \n",
      " conv2d_84 (Conv2D)          (None, 16, 64, 128)       73856     \n",
      "                                                                 \n",
      " batch_normalization_34 (Ba  (None, 16, 64, 128)       512       \n",
      " tchNormalization)                                               \n",
      "                                                                 \n",
      " leaky_re_lu_1 (LeakyReLU)   (None, 16, 64, 128)       0         \n",
      "                                                                 \n",
      " max_pooling2d_28 (MaxPooli  (None, 8, 32, 128)        0         \n",
      " ng2D)                                                           \n",
      "                                                                 \n",
      " conv2d_85 (Conv2D)          (None, 8, 32, 256)        295168    \n",
      "                                                                 \n",
      " batch_normalization_35 (Ba  (None, 8, 32, 256)        1024      \n",
      " tchNormalization)                                               \n",
      "                                                                 \n",
      " leaky_re_lu_2 (LeakyReLU)   (None, 8, 32, 256)        0         \n",
      "                                                                 \n",
      " conv2d_86 (Conv2D)          (None, 8, 32, 256)        590080    \n",
      "                                                                 \n",
      " batch_normalization_36 (Ba  (None, 8, 32, 256)        1024      \n",
      " tchNormalization)                                               \n",
      "                                                                 \n",
      " leaky_re_lu_3 (LeakyReLU)   (None, 8, 32, 256)        0         \n",
      "                                                                 \n",
      " max_pooling2d_29 (MaxPooli  (None, 4, 32, 256)        0         \n",
      " ng2D)                                                           \n",
      "                                                                 \n",
      " conv2d_87 (Conv2D)          (None, 4, 32, 512)        1180160   \n",
      "                                                                 \n",
      " batch_normalization_37 (Ba  (None, 4, 32, 512)        2048      \n",
      " tchNormalization)                                               \n",
      "                                                                 \n",
      " leaky_re_lu_4 (LeakyReLU)   (None, 4, 32, 512)        0         \n",
      "                                                                 \n",
      " conv2d_88 (Conv2D)          (None, 4, 32, 512)        2359808   \n",
      "                                                                 \n",
      " batch_normalization_38 (Ba  (None, 4, 32, 512)        2048      \n",
      " tchNormalization)                                               \n",
      "                                                                 \n",
      " leaky_re_lu_5 (LeakyReLU)   (None, 4, 32, 512)        0         \n",
      "                                                                 \n",
      " max_pooling2d_30 (MaxPooli  (None, 2, 32, 512)        0         \n",
      " ng2D)                                                           \n",
      "                                                                 \n",
      " conv2d_89 (Conv2D)          (None, 1, 31, 512)        1049088   \n",
      "                                                                 \n",
      " lambda_4 (Lambda)           (None, 31, 512)           0         \n",
      "                                                                 \n",
      " bidirectional_6 (Bidirecti  (None, 31, 512)           1574912   \n",
      " onal)                                                           \n",
      "                                                                 \n",
      " bidirectional_7 (Bidirecti  (None, 31, 512)           1574912   \n",
      " onal)                                                           \n",
      "                                                                 \n",
      " dense_4 (Dense)             (None, 31, 79)            40527     \n",
      "                                                                 \n",
      "=================================================================\n",
      "Total params: 8746063 (33.36 MB)\n",
      "Trainable params: 8742607 (33.35 MB)\n",
      "Non-trainable params: 3456 (13.50 KB)\n",
      "_________________________________________________________________\n"
     ]
    }
   ]
  },
  {
   "cell_type": "code",
   "source": [
    "the_labels = Input(name='the_labels', shape=[max_label_len], dtype='float32')\n",
    "input_length = Input(name='input_length', shape=[1], dtype='int64')\n",
    "label_length = Input(name='label_length', shape=[1], dtype='int64')\n",
    "\n",
    "def ctc_lambda_func(args):\n",
    "    y_pred, labels, input_length, label_length = args\n",
    "    \n",
    "    return K.ctc_batch_cost(labels, y_pred, input_length, label_length)\n",
    "\n",
    "loss_out = Lambda(ctc_lambda_func, output_shape=(1,), name='ctc')([outputs, the_labels, input_length, label_length])\n",
    "\n",
    "#model to be used at training time\n",
    "model = Model(inputs=[inputs, the_labels, input_length, label_length], outputs=loss_out)"
   ],
   "metadata": {
    "execution": {
     "iopub.status.busy": "2023-09-30T07:31:06.606602Z",
     "iopub.execute_input": "2023-09-30T07:31:06.606913Z",
     "iopub.status.idle": "2023-09-30T07:31:06.742960Z",
     "shell.execute_reply.started": "2023-09-30T07:31:06.606883Z",
     "shell.execute_reply": "2023-09-30T07:31:06.741564Z"
    },
    "trusted": true,
    "ExecuteTime": {
     "end_time": "2023-11-23T01:26:15.153626400Z",
     "start_time": "2023-11-23T01:26:15.077628700Z"
    }
   },
   "execution_count": 74,
   "outputs": []
  },
  {
   "cell_type": "code",
   "source": [
    "batch_size = 8\n",
    "epochs = 5\n",
    "e = str(epochs)\n",
    "optimizer_name = 'sgd'"
   ],
   "metadata": {
    "execution": {
     "iopub.status.busy": "2023-09-30T07:31:06.745456Z",
     "iopub.execute_input": "2023-09-30T07:31:06.746052Z",
     "iopub.status.idle": "2023-09-30T07:31:06.750596Z",
     "shell.execute_reply.started": "2023-09-30T07:31:06.746019Z",
     "shell.execute_reply": "2023-09-30T07:31:06.749613Z"
    },
    "trusted": true,
    "ExecuteTime": {
     "end_time": "2023-11-23T01:26:15.169626400Z",
     "start_time": "2023-11-23T01:26:15.157629800Z"
    }
   },
   "execution_count": 75,
   "outputs": []
  },
  {
   "cell_type": "code",
   "source": [
    "# Define the directory path within /kaggle/output/\n",
    "checkpoint_directory = 'runs/working/checkpoint_1/' # /kaggle/output/checkpoint_1/\n",
    "\n",
    "# Create the directory if it doesn't exist\n",
    "if not os.path.exists(checkpoint_directory):\n",
    "    os.makedirs(checkpoint_directory)  # Use os.makedirs() to create parent directories if needed\n",
    "\n",
    "# Now you can save your data or model checkpoints to the checkpoint_directory\n",
    "# For example, if you want to save a model checkpoint:\n",
    "# model.save(os.path.join(checkpoint_directory, 'my_model.h5'))"
   ],
   "metadata": {
    "execution": {
     "iopub.status.busy": "2023-09-30T07:31:06.751893Z",
     "iopub.execute_input": "2023-09-30T07:31:06.752547Z",
     "iopub.status.idle": "2023-09-30T07:31:06.764983Z",
     "shell.execute_reply.started": "2023-09-30T07:31:06.752516Z",
     "shell.execute_reply": "2023-09-30T07:31:06.763806Z"
    },
    "trusted": true,
    "ExecuteTime": {
     "end_time": "2023-11-23T01:26:15.190624100Z",
     "start_time": "2023-11-23T01:26:15.171624700Z"
    }
   },
   "execution_count": 76,
   "outputs": []
  },
  {
   "cell_type": "code",
   "source": [
    "model.compile(loss={'ctc': lambda y_true, y_pred: y_pred}, optimizer = optimizer_name, metrics=['accuracy'])\n",
    "\n",
    "filepath=\"runs/working/checkpoint_1/{}o-{}r-{}e-{}t-{}v.hdf5\".format(optimizer_name,\n",
    "                                          str(RECORDS_COUNT),\n",
    "                                          str(epochs),\n",
    "                                          str(train_images.shape[0]),\n",
    "                                          str(valid_images.shape[0]))\n",
    "\n",
    "checkpoint = ModelCheckpoint(filepath=filepath, monitor='val_loss', verbose=1, save_best_only=True, mode='auto')\n",
    "callbacks_list = [checkpoint]"
   ],
   "metadata": {
    "execution": {
     "iopub.status.busy": "2023-09-30T07:31:06.766281Z",
     "iopub.execute_input": "2023-09-30T07:31:06.767367Z",
     "iopub.status.idle": "2023-09-30T07:31:06.791881Z",
     "shell.execute_reply.started": "2023-09-30T07:31:06.767335Z",
     "shell.execute_reply": "2023-09-30T07:31:06.791007Z"
    },
    "trusted": true,
    "ExecuteTime": {
     "end_time": "2023-11-23T01:26:15.200625700Z",
     "start_time": "2023-11-23T01:26:15.188634200Z"
    }
   },
   "execution_count": 77,
   "outputs": []
  },
  {
   "cell_type": "code",
   "source": [
    "history = model.fit(x=[train_images, train_padded_label, train_input_length, train_label_length],\n",
    "                    y=np.zeros(len(train_images)),\n",
    "                    batch_size=batch_size, \n",
    "                    epochs=epochs, \n",
    "                    validation_data=([valid_images, valid_padded_label, valid_input_length, valid_label_length], [np.zeros(len(valid_images))]),\n",
    "                    verbose=1,\n",
    "                    callbacks=callbacks_list)"
   ],
   "metadata": {
    "execution": {
     "iopub.status.busy": "2023-09-30T07:31:06.793177Z",
     "iopub.execute_input": "2023-09-30T07:31:06.793807Z",
     "iopub.status.idle": "2023-09-30T07:42:30.649552Z",
     "shell.execute_reply.started": "2023-09-30T07:31:06.793753Z",
     "shell.execute_reply": "2023-09-30T07:42:30.648562Z"
    },
    "trusted": true,
    "is_executing": true,
    "ExecuteTime": {
     "start_time": "2023-11-23T01:26:15.200625700Z"
    }
   },
   "execution_count": null,
   "outputs": [
    {
     "name": "stdout",
     "output_type": "stream",
     "text": [
      "Epoch 1/5\n",
      "908/982 [==========================>...] - ETA: 29s - loss: 15.0666 - accuracy: 0.0000e+00"
     ]
    }
   ]
  },
  {
   "cell_type": "code",
   "source": [
    "# Saving the history object in excel file using pandas. \n",
    "# pip install openpyxl \n",
    "\n",
    "history_dict = {\n",
    "    'epoch': list(range(1, len(history.history['loss']) + 1)),\n",
    "    'loss': history.history['loss'],\n",
    "    'accuracy': history.history['accuracy'],\n",
    "    'val_loss': history.history['val_loss'],\n",
    "    'val_accuracy': history.history['val_accuracy']\n",
    "}\n",
    "history_df = pd.DataFrame(history_dict)\n",
    "excel_file_path = '/kaggle/working/training_history.xlsx'  # Replace with your desired file path\n",
    "history_df.to_excel(excel_file_path, index=False)"
   ],
   "metadata": {
    "execution": {
     "iopub.status.busy": "2023-09-30T07:47:38.062109Z",
     "iopub.execute_input": "2023-09-30T07:47:38.062461Z",
     "iopub.status.idle": "2023-09-30T07:47:38.340622Z",
     "shell.execute_reply.started": "2023-09-30T07:47:38.062434Z",
     "shell.execute_reply": "2023-09-30T07:47:38.339666Z"
    },
    "trusted": true,
    "is_executing": true
   },
   "execution_count": null,
   "outputs": []
  },
  {
   "cell_type": "code",
   "source": [
    "!pip install -q python-levenshtein"
   ],
   "metadata": {
    "execution": {
     "iopub.status.busy": "2023-09-30T07:47:53.702334Z",
     "iopub.execute_input": "2023-09-30T07:47:53.702925Z",
     "iopub.status.idle": "2023-09-30T07:48:03.345086Z",
     "shell.execute_reply.started": "2023-09-30T07:47:53.702895Z",
     "shell.execute_reply": "2023-09-30T07:48:03.343936Z"
    },
    "trusted": true,
    "is_executing": true
   },
   "execution_count": null,
   "outputs": []
  },
  {
   "cell_type": "code",
   "source": [
    "# load the saved best model weights\n",
    "act_model.load_weights(filepath)\n",
    "\n",
    "# predict outputs on validation images\n",
    "prediction = act_model.predict(valid_images)\n",
    " \n",
    "# use CTC decoder\n",
    "decoded = K.ctc_decode(prediction, \n",
    "                       input_length=np.ones(prediction.shape[0]) * prediction.shape[1],\n",
    "                       greedy=True)[0][0]\n",
    "out = K.get_value(decoded)\n",
    "\n",
    "import Levenshtein as lv\n",
    "\n",
    "total_jaro = 0\n",
    "total_rati = 0\n",
    "# see the results\n",
    "for i, x in enumerate(out):\n",
    "    letters=''\n",
    "    for p in x:\n",
    "        if int(p) != -1:\n",
    "            letters+=char_list[int(p)]\n",
    "    total_jaro+=lv.jaro(letters, valid_original_text[i])\n",
    "    total_rati+=lv.ratio(letters, valid_original_text[i])\n",
    "\n",
    "print('jaro :', total_jaro/len(out))\n",
    "print('ratio:', total_rati/len(out))"
   ],
   "metadata": {
    "execution": {
     "iopub.status.busy": "2023-09-30T07:48:45.126200Z",
     "iopub.execute_input": "2023-09-30T07:48:45.126539Z",
     "iopub.status.idle": "2023-09-30T07:48:45.638267Z",
     "shell.execute_reply.started": "2023-09-30T07:48:45.126514Z",
     "shell.execute_reply": "2023-09-30T07:48:45.637234Z"
    },
    "trusted": true,
    "is_executing": true
   },
   "execution_count": null,
   "outputs": []
  },
  {
   "cell_type": "code",
   "source": [
    "# predict outputs on validation images\n",
    "prediction =act_model.predict(train_images[542:645])\n",
    " \n",
    "# use CTC decoder\n",
    "decoded = K.ctc_decode(prediction,   \n",
    "                       input_length=np.ones(prediction.shape[0]) * prediction.shape[1],\n",
    "                       greedy=True)[0][0]\n",
    "\n",
    "out = K.get_value(decoded)\n",
    "\n",
    "# see the results\n",
    "for i, x in enumerate(out):\n",
    "    print(\"original_text =  \", train_original_text[542+i])\n",
    "    print(\"predicted text = \", end = '')\n",
    "    for p in x:\n",
    "        if int(p) != -1:\n",
    "            print(char_list[int(p)], end = '')\n",
    "    plt.imshow(train_images[542+i].reshape(32,128), cmap=plt.cm.gray)\n",
    "    plt.show()\n",
    "    print('\\n')"
   ],
   "metadata": {
    "execution": {
     "iopub.status.busy": "2023-09-30T07:49:21.503314Z",
     "iopub.execute_input": "2023-09-30T07:49:21.503652Z",
     "iopub.status.idle": "2023-09-30T07:49:42.333003Z",
     "shell.execute_reply.started": "2023-09-30T07:49:21.503624Z",
     "shell.execute_reply": "2023-09-30T07:49:42.332125Z"
    },
    "trusted": true,
    "is_executing": true
   },
   "execution_count": null,
   "outputs": []
  },
  {
   "cell_type": "code",
   "source": [
    "# Extract data from the history object\n",
    "acc = history.history[\"accuracy\"]\n",
    "val_acc = history.history[\"val_accuracy\"]\n",
    "loss = history.history[\"loss\"]\n",
    "val_loss = history.history[\"val_loss\"]\n",
    "epochs = range(1, len(loss) + 1)\n",
    "\n",
    "# Plot training and validation accuracy\n",
    "plt.figure(figsize=(12, 6))\n",
    "plt.subplot(1, 2, 1)\n",
    "plt.plot(epochs, acc, \"b\", label=\"Training Accuracy\")\n",
    "plt.plot(epochs, val_acc, \"r\", label=\"Validation Accuracy\")\n",
    "plt.title(\"Training and Validation Accuracy\")\n",
    "plt.xlabel(\"Epochs\")\n",
    "plt.ylabel(\"Accuracy\")\n",
    "plt.legend()\n",
    "\n",
    "# Plot training and validation loss\n",
    "plt.subplot(1, 2, 2)\n",
    "plt.plot(epochs, loss, \"b\", label=\"Training Loss\")\n",
    "plt.plot(epochs, val_loss, \"r\", label=\"Validation Loss\")\n",
    "plt.title(\"Training and Validation Loss\")\n",
    "plt.xlabel(\"Epochs\")\n",
    "plt.ylabel(\"Loss\")\n",
    "plt.legend()\n",
    "\n",
    "# Save the plot in /kaggle/output/\n",
    "plot_filename = 'runs/working/Accuracy_Loss_Plot.png'  # Specify the desired file name and extension\n",
    "plt.savefig(plot_filename)\n",
    "\n",
    "plt.tight_layout()\n",
    "plt.show()"
   ],
   "metadata": {
    "execution": {
     "iopub.status.busy": "2023-09-30T07:50:17.594558Z",
     "iopub.execute_input": "2023-09-30T07:50:17.594893Z",
     "iopub.status.idle": "2023-09-30T07:50:18.363845Z",
     "shell.execute_reply.started": "2023-09-30T07:50:17.594865Z",
     "shell.execute_reply": "2023-09-30T07:50:18.362962Z"
    },
    "trusted": true,
    "is_executing": true
   },
   "execution_count": null,
   "outputs": []
  },
  {
   "cell_type": "code",
   "source": [
    "minimum_val_loss = np.min(history.history['val_loss'])\n",
    "best_model_index = np.where(history.history['val_loss'] == minimum_val_loss)[0][0]\n",
    "\n",
    "best_loss = str(history.history['loss'][best_model_index])\n",
    "best_acc = str(history.history['accuracy'][best_model_index])\n",
    "best_val_loss = str(history.history['val_loss'][best_model_index])\n",
    "best_val_acc = str(history.history['val_accuracy'][best_model_index])"
   ],
   "metadata": {
    "execution": {
     "iopub.status.busy": "2023-09-30T07:50:26.911067Z",
     "iopub.execute_input": "2023-09-30T07:50:26.911463Z",
     "iopub.status.idle": "2023-09-30T07:50:26.917236Z",
     "shell.execute_reply.started": "2023-09-30T07:50:26.911433Z",
     "shell.execute_reply": "2023-09-30T07:50:26.916244Z"
    },
    "trusted": true,
    "is_executing": true
   },
   "execution_count": null,
   "outputs": []
  },
  {
   "cell_type": "code",
   "source": [
    "with open('runs/working/history.txt', 'a') as f:\n",
    "    new_data = '{},{},{},{},{},{},{},{},{},{}\\n'.format(filepath, \n",
    "                                                      optimizer_name, \n",
    "                                                      str(RECORDS_COUNT), \n",
    "                                                      e, \n",
    "                                                      str(train_images.shape[0]),\n",
    "                                                      str(valid_images.shape[0]), \n",
    "                                                      best_loss, \n",
    "                                                      best_acc, \n",
    "                                                      best_val_loss, \n",
    "                                                      best_val_acc)\n",
    "    f.write(new_data)"
   ],
   "metadata": {
    "execution": {
     "iopub.status.busy": "2023-09-30T07:50:58.412045Z",
     "iopub.execute_input": "2023-09-30T07:50:58.412413Z",
     "iopub.status.idle": "2023-09-30T07:50:58.418085Z",
     "shell.execute_reply.started": "2023-09-30T07:50:58.412386Z",
     "shell.execute_reply": "2023-09-30T07:50:58.417236Z"
    },
    "trusted": true,
    "is_executing": true
   },
   "execution_count": null,
   "outputs": []
  },
  {
   "cell_type": "code",
   "source": [
    "model.save('runs/working/Text_recognizer_ECE4554.h5')"
   ],
   "metadata": {
    "execution": {
     "iopub.status.busy": "2023-09-30T07:51:07.639649Z",
     "iopub.execute_input": "2023-09-30T07:51:07.639969Z",
     "iopub.status.idle": "2023-09-30T07:51:07.813423Z",
     "shell.execute_reply.started": "2023-09-30T07:51:07.639943Z",
     "shell.execute_reply": "2023-09-30T07:51:07.812467Z"
    },
    "trusted": true,
    "is_executing": true
   },
   "execution_count": null,
   "outputs": []
  }
 ]
}
